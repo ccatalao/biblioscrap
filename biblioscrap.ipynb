{
 "cells": [
  {
   "cell_type": "markdown",
   "metadata": {},
   "source": [
    "# Captura de Registos Bibliográficos da Biblioteca Nacional de Portugal"
   ]
  },
  {
   "cell_type": "markdown",
   "metadata": {},
   "source": [
    "## Aplicação de Web Scraping em Open Data"
   ]
  },
  {
   "cell_type": "markdown",
   "metadata": {},
   "source": [
    "Os ficheiros fonte foram obtidos no repositório nacional OpenData, disponibilizados pela Biblioteca NacionaL de Portugal, em formato MarcXchange XML, em https://opendata.bnportugal.gov.pt/downloads.htm"
   ]
  },
  {
   "cell_type": "markdown",
   "metadata": {},
   "source": [
    "Apliquei a livraria de web scraping BeautifulSoup, versão 4, em Python, seguindo as regras de classificação UniMarc."
   ]
  },
  {
   "cell_type": "markdown",
   "metadata": {},
   "source": [
    "As regras UNIMARC seguem a versão 3, do Catálogo Bibliográfico Abreviado, de 2008, publicado pela Biblioteca Nacional de Portugal, diponível em https://www.ifla.org/files/assets/uca/publications/unimarc-holdings-format-pt.pdf"
   ]
  },
  {
   "cell_type": "markdown",
   "metadata": {},
   "source": [
    "Os resultados são guardados em ficheiros JSON e CSV."
   ]
  },
  {
   "cell_type": "markdown",
   "metadata": {},
   "source": [
    "\n",
    "Carlos Catalão Alves\n",
    "\n",
    "Lisboa, Janeiro 2021"
   ]
  },
  {
   "cell_type": "markdown",
   "metadata": {},
   "source": [
    "Copyright MIT"
   ]
  },
  {
   "cell_type": "markdown",
   "metadata": {},
   "source": [
    "### Importação de livrarias para web scraping"
   ]
  },
  {
   "cell_type": "code",
   "execution_count": 1,
   "metadata": {},
   "outputs": [],
   "source": [
    "import requests\n",
    "from bs4 import BeautifulSoup "
   ]
  },
  {
   "cell_type": "code",
   "execution_count": 475,
   "metadata": {},
   "outputs": [],
   "source": [
    "# Uso Pandas só para a gravação em JSON/CSV\n",
    "import pandas as pd"
   ]
  },
  {
   "cell_type": "code",
   "execution_count": 477,
   "metadata": {},
   "outputs": [],
   "source": []
  },
  {
   "cell_type": "code",
   "execution_count": 729,
   "metadata": {},
   "outputs": [],
   "source": [
    "# Lista de títulos dos ficheiros XML\n",
    "fnames = ['bibliographics_1_to_55654',\n",
    "    'bibliographics_55655_to_118584',\n",
    "    'bibliographics_118585_to_204006',\n",
    "    'bibliographics_204007_to_283314',\n",
    "    'bibliographics_283315_to_367718',\n",
    "    'bibliographics_367719_to_470125',\n",
    "    'bibliographics_470126_to_559734',\n",
    "    'bibliographics_559737_to_693394',\n",
    "    'bibliographics_693441_to_761849',\n",
    "    'bibliographics_761850_to_897443',\n",
    "    'bibliographics_897444_to_1016009',\n",
    "    'bibliographics_1016010_to_1073638',\n",
    "    'bibliographics_1073639_to_1192807',\n",
    "    'bibliographics_1192808_to_1258277',\n",
    "    'bibliographics_1258279_to_1373167',\n",
    "    'bibliographics_1373168_to_1698672',\n",
    "    'bibliographics_1698674_to_1753584',\n",
    "    'bibliographics_1753585_to_1807726',\n",
    "    'bibliographics_1807727_to_1864741',\n",
    "    'bibliographics_1864742_to_1923995',\n",
    "    'bibliographics_1923996_to_1984865',\n",
    "    'bibliographics_1984867_to_2050311',\n",
    "    'bibliographics_2050312_to_2058585',\n",
    "]"
   ]
  },
  {
   "cell_type": "code",
   "execution_count": null,
   "metadata": {},
   "outputs": [],
   "source": []
  },
  {
   "cell_type": "markdown",
   "metadata": {},
   "source": [
    "### Funções usadas na captura de dados"
   ]
  },
  {
   "cell_type": "code",
   "execution_count": 710,
   "metadata": {},
   "outputs": [],
   "source": [
    "def get_capa_http(bs):\n",
    "    \n",
    "    capa_http = ''\n",
    "    try:\n",
    "        tmp = str(bs.find(\"mx:subfield\", attrs={\"code\":'u'}).string)\n",
    "        tmp_lst = tmp.split('?')\n",
    "        capa_http = tmp_lst[0]\n",
    "        \n",
    "        img = tmp_lst[1]\n",
    "        x = img.find('img=')\n",
    "        tmp = img[x:]\n",
    "        tmp_lst = tmp.split('&')\n",
    "        img = tmp_lst[0]\n",
    "        capa_http = capa_http + '?' + img\n",
    "    except:\n",
    "        pass\n",
    "        \n",
    "    return capa_http"
   ]
  },
  {
   "cell_type": "code",
   "execution_count": 711,
   "metadata": {},
   "outputs": [],
   "source": [
    "def get_bnp_notas(bs):\n",
    "    \n",
    "    bnp_notas = ''\n",
    "    try:\n",
    "        bnp_notas = str(bs.find(\"mx:subfield\", attrs={\"code\":'a'}).string)\n",
    "    except:\n",
    "        pass\n",
    "        \n",
    "    return bnp_notas"
   ]
  },
  {
   "cell_type": "code",
   "execution_count": 712,
   "metadata": {},
   "outputs": [],
   "source": [
    "def get_coleccao(bs):\n",
    "    \n",
    "    coleccao = ''\n",
    "    try:\n",
    "        coleccao = str(bs.find(\"mx:subfield\", attrs={\"code\":'a'}).string)\n",
    "    except:\n",
    "        pass\n",
    "        \n",
    "    return coleccao"
   ]
  },
  {
   "cell_type": "code",
   "execution_count": 713,
   "metadata": {},
   "outputs": [],
   "source": [
    "def get_autor_principal_sobrenome(bs):\n",
    "    \n",
    "    autor_principal_sobrenome = ''\n",
    "    try:\n",
    "        tmp = str(bs.find(\"mx:subfield\", attrs={\"code\":'a'}).string)\n",
    "        autor_principal_sobrenome = tmp.strip('')\n",
    "        autor_principal_sobrenome = autor_principal_sobrenome.strip(',')\n",
    "    except:\n",
    "        pass\n",
    "\n",
    "    return autor_principal_sobrenome"
   ]
  },
  {
   "cell_type": "code",
   "execution_count": 714,
   "metadata": {},
   "outputs": [],
   "source": [
    "def get_autor_principal_nome(bs):\n",
    "    \n",
    "    autor_principal_nome = ''\n",
    "    try:\n",
    "        autor_principal_nome = str(bs.find(\"mx:subfield\", attrs={\"code\":'b'}).string)\n",
    "    except:\n",
    "        pass\n",
    "\n",
    "    return autor_principal_nome"
   ]
  },
  {
   "cell_type": "code",
   "execution_count": null,
   "metadata": {},
   "outputs": [],
   "source": []
  },
  {
   "cell_type": "code",
   "execution_count": 715,
   "metadata": {},
   "outputs": [],
   "source": [
    "def get_isbn(bs):\n",
    "    \n",
    "    isbn = ''\n",
    "    try:\n",
    "        isbn = str(bs.find(\"mx:subfield\", attrs={\"code\":'a'}).string)\n",
    "    except:\n",
    "        pass\n",
    "\n",
    "    return isbn"
   ]
  },
  {
   "cell_type": "code",
   "execution_count": 716,
   "metadata": {},
   "outputs": [],
   "source": [
    "def get_cdu(bs):\n",
    "    \n",
    "    cdu = ''\n",
    "    try:\n",
    "        cdu = str(bs.find(\"mx:subfield\", attrs={\"code\":'a'}).string)\n",
    "    except:\n",
    "        pass\n",
    "\n",
    "    return cdu"
   ]
  },
  {
   "cell_type": "code",
   "execution_count": 717,
   "metadata": {},
   "outputs": [],
   "source": [
    "def get_editora_local(editora):\n",
    "    \n",
    "    editora_local = ''\n",
    "    \n",
    "    try:\n",
    "        editora_local = str(editora.find(\"mx:subfield\", attrs={\"code\":'a'}).string)\n",
    "    except:\n",
    "        pass\n",
    "    \n",
    "    return editora_local"
   ]
  },
  {
   "cell_type": "code",
   "execution_count": 718,
   "metadata": {},
   "outputs": [],
   "source": [
    "def get_editora_nome(editora):\n",
    "    \n",
    "    editora_nome = ''\n",
    "    try: \n",
    "        tmp = str(editora.find(\"mx:subfield\", attrs={\"code\":'c'}).string)\n",
    "        editora_nome = tmp.strip(', ')\n",
    "    except:\n",
    "        pass\n",
    "    \n",
    "    return editora_nome"
   ]
  },
  {
   "cell_type": "code",
   "execution_count": 719,
   "metadata": {},
   "outputs": [],
   "source": [
    "def get_editora_ano(editora):\n",
    "    \n",
    "    editora_ano = ''\n",
    "    try:\n",
    "        editora_ano = str(editora.find(\"mx:subfield\", attrs={\"code\":'d'}).string)\n",
    "    except:\n",
    "        pass\n",
    "    \n",
    "    return editora_ano"
   ]
  },
  {
   "cell_type": "code",
   "execution_count": 721,
   "metadata": {},
   "outputs": [],
   "source": [
    "def get_autor_secundario(bs):\n",
    "    \n",
    "    autor_secundario = ''\n",
    "    try:\n",
    "        tmp = str(bs.find(\"mx:subfield\", attrs={\"code\":'a'}).string)\n",
    "        autor_secundario_sobrenome = tmp.strip()\n",
    "        autor_secundario_sobrenome = autor_secundario_sobrenome.strip(',')\n",
    "        autor_secundario_nome = str(bs.find(\"mx:subfield\", attrs={\"code\":'b'}).string)\n",
    "        autor_secundario = autor_secundario_nome + ' ' + autor_secundario_sobrenome \n",
    "    except:\n",
    "        pass\n",
    "\n",
    "    return autor_secundario.replace(',','')"
   ]
  },
  {
   "cell_type": "code",
   "execution_count": null,
   "metadata": {},
   "outputs": [],
   "source": []
  },
  {
   "cell_type": "code",
   "execution_count": 722,
   "metadata": {},
   "outputs": [],
   "source": [
    "def get_titulo_original(bs):\n",
    "    \n",
    "    titulo_original = ''\n",
    "    try:\n",
    "        titulo_original = str(bs.find(\"mx:subfield\", attrs={\"code\":'a'}).string)\n",
    "    except:\n",
    "        pass\n",
    "    \n",
    "    return titulo_original"
   ]
  },
  {
   "cell_type": "code",
   "execution_count": 723,
   "metadata": {},
   "outputs": [],
   "source": [
    "def get_responsavel(bs):\n",
    "    \n",
    "    responsavel = ''\n",
    "    try:\n",
    "        responsavel = str(bs.find(\"mx:subfield\", attrs={\"code\":'f'}).string)\n",
    "    except:\n",
    "        pass\n",
    "    \n",
    "    return responsavel"
   ]
  },
  {
   "cell_type": "code",
   "execution_count": 724,
   "metadata": {},
   "outputs": [],
   "source": [
    "def get_ilustracao(bs):\n",
    "    \n",
    "    ilustracao = ''\n",
    "    try:\n",
    "        tmp = str(bs.find(\"mx:subfield\", attrs={\"code\":'g'}).string)\n",
    "        if tmp.find('il') >= 0:\n",
    "            ilustracao = tmp\n",
    "    except:\n",
    "        pass\n",
    "    \n",
    "    return ilustracao"
   ]
  },
  {
   "cell_type": "code",
   "execution_count": 725,
   "metadata": {},
   "outputs": [],
   "source": [
    "def get_traducao(bs):\n",
    "    \n",
    "    traducao = ''\n",
    "    try:\n",
    "        tmp = str(bs.find(\"mx:subfield\", attrs={\"code\":'g'}).string)\n",
    "        if tmp.find('trad') >= 0:\n",
    "            traducao = tmp\n",
    "    except:\n",
    "        pass\n",
    "    \n",
    "    return traducao"
   ]
  },
  {
   "cell_type": "code",
   "execution_count": 726,
   "metadata": {},
   "outputs": [],
   "source": [
    "def get_edicao(bs):\n",
    "    \n",
    "    edicao = ''\n",
    "    try:\n",
    "        edicao = str(bs.find(\"mx:subfield\", attrs={\"code\":'a'}).string)\n",
    "    except:\n",
    "        pass\n",
    "    \n",
    "    return edicao"
   ]
  },
  {
   "cell_type": "code",
   "execution_count": null,
   "metadata": {},
   "outputs": [],
   "source": []
  },
  {
   "cell_type": "code",
   "execution_count": 727,
   "metadata": {},
   "outputs": [],
   "source": [
    "def get_descricao_fisica(bs, code):\n",
    "    \n",
    "    descricao_fisica = ''\n",
    "    try:\n",
    "        descricao_fisica = str(bs.find(\"mx:subfield\", attrs={\"code\": code}).string)\n",
    "    except:\n",
    "        pass\n",
    "    \n",
    "    return descricao_fisica"
   ]
  },
  {
   "cell_type": "markdown",
   "metadata": {},
   "source": [
    "### Leitura dos ficheiros XML e gravação de resultados em JSON e CSV"
   ]
  },
  {
   "cell_type": "code",
   "execution_count": null,
   "metadata": {},
   "outputs": [],
   "source": [
    "# Ciclo principal de execução de todos os ficheiros XML \n",
    "\n",
    "for ficheiro in ficheiros:\n",
    "    \n",
    "    reg_list = []\n",
    "    artigos = []\n",
    "    \n",
    "    fn = ficheiro + '.xml'\n",
    "    soup = BeautifulSoup(open(file), features='lxml')\n",
    "    artigos = soup.findAll('mx:record')\n",
    "    \n",
    "    # Executa o ciclo de scraping\n",
    "    reg_list = get_dados_bnp(artigos)\n",
    "    \n",
    "    # Cria a datframe dos eresultados\n",
    "    df = pd.DataFrame(reg_list)\n",
    "    \n",
    "    # Grava em CSV\n",
    "    df.to_csv(fname +'.csv')\n",
    "    \n",
    "    # Grava em JSON\n",
    "    df.to_csv(fname +'.csv')   "
   ]
  },
  {
   "cell_type": "code",
   "execution_count": null,
   "metadata": {},
   "outputs": [],
   "source": [
    "# Ciclo de scraping (executado para cada um dos ficheiros XML)\n",
    "def get_dados_bnp(artigos):\n",
    "\n",
    "    for a in artigos:\n",
    "    \n",
    "        reg = {'registo_bnp':'','link_bnp': '',\n",
    "            'responsavel': '', 'ilustracao': '', 'traducao': '',\n",
    "            'edicao_no': '', 'desc_fisica': '',\n",
    "            'editora_local':'', 'editora_ano':'', 'editora_nome':'',\n",
    "            'tit_original':'',\n",
    "            'autor_principal_nome':'', 'autor_principal_sobrenome':'',\n",
    "            'autores_secundarios': '',\n",
    "            'coleccao':'', 'coleccao_no':'',\n",
    "            'notas_bnp': '',\n",
    "            'isbn':'',\n",
    "            'cdu':'',\n",
    "            'capa':'',\n",
    "        }\n",
    "\n",
    "        #  link para BNP\n",
    "        bs = a.find('mx:controlfield', attrs={'tag': '003'}) # link BNP\n",
    "        try:\n",
    "            reg['link_bnp'] = bs.text\n",
    "        except:\n",
    "            reg['link_bnp'] = ''\n",
    "\n",
    "        # Bloco 200: Titulo e menção de responsabilidade\n",
    "        bs = a.find('mx:datafield', attrs={'tag': '200'})\n",
    "        reg['responsavel'] = get_responsavel(bs)\n",
    "        reg['ilustracao'] = get_ilustracao(bs)\n",
    "        reg['traducao'] = get_traducao(bs)\n",
    "\n",
    "        # Publicação\n",
    "        bs = a.find('mx:datafield', attrs={'tag': '210'}) # publicação\n",
    "        reg['editora_local'] = get_editora_local(bs)\n",
    "        reg['editora_ano'] = get_editora_ano(bs)\n",
    "        reg['editora_nome'] = get_editora_nome(bs)\n",
    "\n",
    "        #  Número de edição\n",
    "        bs = a.find('mx:datafield', attrs={'tag': '205'}) # edicao \n",
    "        reg['edicao_no'] = get_edicao(bs)\n",
    "\n",
    "\n",
    "        # Descricao fisica\n",
    "        bs = a.find('mx:datafield', attrs={'tag': '215'}) # desc fisica\n",
    "        codes = ['a','c','d']\n",
    "        reg['desc_fisica'] = ''\n",
    "        for code in codes:\n",
    "            item = get_descricao_fisica(bs, code)\n",
    "            reg['desc_fisica'] = reg['desc_fisica'] + ' ' + item\n",
    "            reg['desc_fisica'] = reg['desc_fisica'].strip()\n",
    "\n",
    "\n",
    "        #  Título original\n",
    "        bs = a.find('mx:datafield', attrs={'tag': '304'}) # tit. orig.\n",
    "        reg['tit_original'] = get_titulo_original(bs)\n",
    "\n",
    "        # Autores secundarios\n",
    "        bs = None\n",
    "        tag = 701\n",
    "        bs = a.find('mx:datafield', attrs={'tag':'701'}) # autor secundário 1\n",
    "        reg['autores_secundarios'] = get_autor_secundario(bs)\n",
    "\n",
    "        bs = a.find('mx:datafield', attrs={'tag':'702'}) # autor secundário 2\n",
    "        autor_sec2 = get_autor_secundario(bs)\n",
    "        if len(autor_sec2) > 0:\n",
    "            reg['autores_secundarios'] = reg['autores_secundarios'] + ', ' + autor_sec2\n",
    "        reg['autores_secundarios'] = reg['autores_secundarios'].strip(', ')\n",
    "\n",
    "\n",
    "        # Bloco de Responsabilidade\n",
    "        bs = None\n",
    "        tag = 700\n",
    "        while bs == None:\n",
    "            bs = a.find('mx:datafield', attrs={'tag': str(tag)}) # autor principal\n",
    "            tag+=1\n",
    "        reg['autor_principal_sobrenome'] = get_autor_principal_sobrenome(bs)\n",
    "        reg['autor_principal_nome'] = get_autor_principal_nome(bs)\n",
    "\n",
    "        # Colecção\n",
    "        bs = a.find('mx:datafield', attrs={'tag': '225'}) # coleccao\n",
    "        reg['coleccao'] = get_coleccao(bs)  \n",
    "        if len(reg['coleccao']):\n",
    "            item = bs.find(\"mx:subfield\", attrs={\"code\":'v'}) # número \n",
    "            if item:\n",
    "                reg['coleccao_no'] = item.string\n",
    "\n",
    "\n",
    "        # ISBN\n",
    "        bs = a.find('mx:datafield', attrs={'tag': '010'}) # ISBN\n",
    "        reg['isbn'] = get_isbn(bs)\n",
    "\n",
    "        # CDU\n",
    "        bs = a.find('mx:datafield', attrs={'tag': '675'}) # CDU\n",
    "        reg['cdu'] = get_cdu(bs)\n",
    "\n",
    "        # Link para imagem da capa\n",
    "        bs = a.find('mx:datafield', attrs={'tag': '856'}) # capa\n",
    "        reg['capa'] = get_capa_http(bs)\n",
    "\n",
    "        reg['registo_bnp'] = str(a.find('mx:controlfield', attrs={'tag': '001'}).text)       \n",
    "\n",
    "        print(reg)\n",
    "        reg_list.append(reg)\n",
    "        \n",
    "    return(reg_list)\n"
   ]
  },
  {
   "cell_type": "markdown",
   "metadata": {},
   "source": [
    "Carlos Catalão Alves\n",
    "\n",
    "Janeiro 2021"
   ]
  }
 ],
 "metadata": {
  "kernelspec": {
   "display_name": "Python 3",
   "language": "python",
   "name": "python3"
  },
  "language_info": {
   "codemirror_mode": {
    "name": "ipython",
    "version": 3
   },
   "file_extension": ".py",
   "mimetype": "text/x-python",
   "name": "python",
   "nbconvert_exporter": "python",
   "pygments_lexer": "ipython3",
   "version": "3.7.6"
  }
 },
 "nbformat": 4,
 "nbformat_minor": 4
}
